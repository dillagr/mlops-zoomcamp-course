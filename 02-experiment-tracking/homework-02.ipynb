{
 "cells": [
  {
   "cell_type": "markdown",
   "id": "b88afcd6",
   "metadata": {},
   "source": [
    "## _(INSTALL IMPORTS)_"
   ]
  },
  {
   "cell_type": "markdown",
   "id": "e03bd6a4",
   "metadata": {},
   "source": [
    "!conda install --yes --quiet mlflow scikit-learn pandas seaborn hyperopt xgboost fastparquet boto3\n"
   ]
  },
  {
   "cell_type": "raw",
   "id": "a3c7be56",
   "metadata": {},
   "source": [
    "!conda install --yes --quiet gitpython\n"
   ]
  },
  {
   "cell_type": "markdown",
   "id": "341b3e83",
   "metadata": {},
   "source": [
    "## Q1. Install MLflow\n",
    "\n",
    "To get started with MLflow you'll need to install the MLflow Python package.\n",
    "\n",
    "For this we recommend creating a separate Python environment, for example, you can use conda environments, and then install the package there with pip or conda.\n",
    "\n",
    "Once you installed the package, run the command mlflow --version and check the output.\n",
    "\n",
    "What's the version that you have?"
   ]
  },
  {
   "cell_type": "code",
   "execution_count": 1,
   "id": "c34ee768",
   "metadata": {},
   "outputs": [
    {
     "name": "stdout",
     "output_type": "stream",
     "text": [
      "mlflow, version 2.13.0\n"
     ]
    }
   ],
   "source": [
    "!mlflow --version\n"
   ]
  },
  {
   "cell_type": "markdown",
   "id": "a2cd85b9",
   "metadata": {},
   "source": [
    "## Q2. Download and preprocess the data\n",
    "\n",
    "We'll use the Green Taxi Trip Records dataset to predict the duration of each trip.\n",
    "\n",
    "Download the data for January, February and March 2023 in parquet format from here.\n",
    "\n",
    "Use the script preprocess_data.py located in the folder homework to preprocess the data.\n",
    "\n",
    "The script will:\n",
    "\n",
    "load the data from the folder <TAXI_DATA_FOLDER> (the folder where you have downloaded the data),\n",
    "fit a DictVectorizer on the training set (January 2023 data),\n",
    "save the preprocessed datasets and the DictVectorizer to disk.\n",
    "Your task is to download the datasets and then execute this command:\n",
    "\n",
    "```python preprocess_data.py --raw_data_path <TAXI_DATA_FOLDER> --dest_path ./output```\n",
    "\n",
    "Tip: go to 02-experiment-tracking/homework/ folder before executing the command and change the value of <TAXI_DATA_FOLDER> to the location where you saved the data.\n",
    "\n",
    "How many files were saved to OUTPUT_FOLDER?"
   ]
  },
  {
   "cell_type": "code",
   "execution_count": 2,
   "id": "dd261a5d",
   "metadata": {},
   "outputs": [
    {
     "data": {
      "text/plain": [
       "['dv.pkl', 'test.pkl', 'train.pkl', 'val.pkl']"
      ]
     },
     "execution_count": 2,
     "metadata": {},
     "output_type": "execute_result"
    }
   ],
   "source": [
    "import os\n",
    "os.listdir('output')\n"
   ]
  },
  {
   "cell_type": "markdown",
   "id": "76b9956e",
   "metadata": {},
   "source": [
    "## Q3. Train a model with autolog\n",
    "\n",
    "We will train a RandomForestRegressor (from Scikit-Learn) on the taxi dataset.\n",
    "\n",
    "We have prepared the training script train.py for this exercise, which can be also found in the folder homework.\n",
    "\n",
    "The script will:\n",
    "\n",
    "* load the datasets produced by the previous step,\n",
    "* train the model on the training set,\n",
    "* calculate the RMSE score on the validation set.\n",
    "\n",
    "Your task is to modify the script to enable autologging with MLflow, execute the script and then launch the MLflow UI to check that the experiment run was properly tracked.\n",
    "\n",
    "Tip 1: don't forget to wrap the training code with a with mlflow.start_run(): statement as we showed in the videos.\n",
    "\n",
    "Tip 2: don't modify the hyperparameters of the model to make sure that the training will finish quickly.\n",
    "\n",
    "What is the value of the min_samples_split parameter?"
   ]
  },
  {
   "cell_type": "code",
   "execution_count": 3,
   "id": "837febab",
   "metadata": {},
   "outputs": [],
   "source": [
    "from mlflow.tracking import MlflowClient\n",
    "from loguru import logger\n",
    "\n",
    "MLFLOW_TRACKING_URI = \"sqlite:///mlflow.db\"\n",
    "Q3_EXPERIMENT_NAME = \"homework-02\"\n"
   ]
  },
  {
   "cell_type": "code",
   "execution_count": 4,
   "id": "b40b8b1d",
   "metadata": {},
   "outputs": [],
   "source": [
    "client = MlflowClient(tracking_uri=MLFLOW_TRACKING_URI)\n",
    "experiment = client.get_experiment_by_name(Q3_EXPERIMENT_NAME)\n",
    "run = client.search_runs(experiment.experiment_id, max_results=1)[0]\n"
   ]
  },
  {
   "cell_type": "code",
   "execution_count": 5,
   "id": "c23ca480",
   "metadata": {},
   "outputs": [
    {
     "name": "stderr",
     "output_type": "stream",
     "text": [
      "\u001b[32m2024-05-22 20:59:58.380\u001b[0m | \u001b[1mINFO    \u001b[0m | \u001b[36m__main__\u001b[0m:\u001b[36m<module>\u001b[0m:\u001b[36m1\u001b[0m - \u001b[1m2\u001b[0m\n"
     ]
    }
   ],
   "source": [
    "logger.info(run.data.params['min_samples_split'])\n"
   ]
  },
  {
   "cell_type": "markdown",
   "id": "aeff7f8b",
   "metadata": {},
   "source": [
    "## Q4. Launch the tracking server locally\n",
    "\n",
    "Now we want to manage the entire lifecycle of our ML model. In this step, you'll need to launch a tracking server. This way we will also have access to the model registry.\n",
    "\n",
    "Your task is to:\n",
    "\n",
    "* launch the tracking server on your local machine,\n",
    "* select a SQLite db for the backend store and a folder called artifacts for the artifacts store.\n",
    "\n",
    "You should keep the tracking server running to work on the next two exercises that use the server.\n",
    "\n",
    "In addition to backend-store-uri, what else do you need to pass to properly configure the server?\n",
    "\n",
    "* default-artifact-root\n",
    "* serve-artifacts\n",
    "* artifacts-only\n",
    "* artifacts-destination"
   ]
  },
  {
   "cell_type": "code",
   "execution_count": 6,
   "id": "3f4dea27",
   "metadata": {
    "scrolled": true
   },
   "outputs": [
    {
     "name": "stdout",
     "output_type": "stream",
     "text": [
      "Usage: mlflow ui [OPTIONS]\n",
      "\n",
      "  Run the MLflow tracking server.\n",
      "\n",
      "  The server listens on http://localhost:5000 by default and only accepts\n",
      "  connections from the local machine. To let the server accept connections\n",
      "  from other machines, you will need to pass ``--host 0.0.0.0`` to listen on\n",
      "  all network interfaces (or a specific interface address).\n",
      "\n",
      "Options:\n",
      "  --backend-store-uri PATH        URI to which to persist experiment and run\n",
      "                                  data. Acceptable URIs are SQLAlchemy-\n",
      "                                  compatible database connection strings (e.g.\n",
      "                                  'sqlite:///path/to/file.db') or local\n",
      "                                  filesystem URIs (e.g.\n",
      "                                  'file:///absolute/path/to/directory'). By\n",
      "                                  default, data will be logged to the ./mlruns\n",
      "                                  directory.\n",
      "  --registry-store-uri URI        URI to which to persist registered models.\n",
      "                                  Acceptable URIs are SQLAlchemy-compatible\n",
      "                                  database connection strings (e.g.\n",
      "                                  'sqlite:///path/to/file.db'). If not\n",
      "                                  specified, `backend-store-uri` is used.\n",
      "  --default-artifact-root URI     Directory in which to store artifacts for\n",
      "                                  any new experiments created. For tracking\n",
      "                                  server backends that rely on SQL, this\n",
      "                                  option is required in order to store\n",
      "                                  artifacts. Note that this flag does not\n",
      "                                  impact already-created experiments with any\n",
      "                                  previous configuration of an MLflow server\n",
      "                                  instance. By default, data will be logged to\n",
      "                                  the mlflow-artifacts:/ uri proxy if the\n",
      "                                  --serve-artifacts option is enabled.\n",
      "                                  Otherwise, the default location will be\n",
      "                                  ./mlruns.\n",
      "  --serve-artifacts / --no-serve-artifacts\n",
      "                                  Enables serving of artifact uploads,\n",
      "                                  downloads, and list requests by routing\n",
      "                                  these requests to the storage location that\n",
      "                                  is specified by '--artifacts-destination'\n",
      "                                  directly through a proxy. The default\n",
      "                                  location that these requests are served from\n",
      "                                  is a local './mlartifacts' directory which\n",
      "                                  can be overridden via the '--artifacts-\n",
      "                                  destination' argument. To disable artifact\n",
      "                                  serving, specify `--no-serve-artifacts`.\n",
      "                                  Default: True\n",
      "  --artifacts-only                If specified, configures the mlflow server\n",
      "                                  to be used only for proxied artifact\n",
      "                                  serving. With this mode enabled,\n",
      "                                  functionality of the mlflow tracking service\n",
      "                                  (e.g. run creation, metric logging, and\n",
      "                                  parameter logging) is disabled. The server\n",
      "                                  will only expose endpoints for uploading,\n",
      "                                  downloading, and listing artifacts. Default:\n",
      "                                  False\n",
      "  --artifacts-destination URI     The base artifact location from which to\n",
      "                                  resolve artifact upload/download/list\n",
      "                                  requests (e.g. 's3://my-bucket'). Defaults\n",
      "                                  to a local './mlartifacts' directory. This\n",
      "                                  option only applies when the tracking server\n",
      "                                  is configured to stream artifacts and the\n",
      "                                  experiment's artifact root location is http\n",
      "                                  or mlflow-artifacts URI.\n",
      "  -h, --host HOST                 The network address to listen on (default:\n",
      "                                  127.0.0.1). Use 0.0.0.0 to bind to all\n",
      "                                  addresses if you want to access the tracking\n",
      "                                  server from other machines.\n",
      "  -p, --port INTEGER              The port to listen on (default: 5000).\n",
      "  -w, --workers TEXT              Number of gunicorn worker processes to\n",
      "                                  handle requests (default: 1).\n",
      "  --static-prefix TEXT            A prefix which will be prepended to the path\n",
      "                                  of all static paths.\n",
      "  --gunicorn-opts TEXT            Additional command line options forwarded to\n",
      "                                  gunicorn processes.\n",
      "  --waitress-opts TEXT            Additional command line options for\n",
      "                                  waitress-serve.\n",
      "  --expose-prometheus TEXT        Path to the directory where metrics will be\n",
      "                                  stored. If the directory doesn't exist, it\n",
      "                                  will be created. Activate prometheus\n",
      "                                  exporter to expose metrics on /metrics\n",
      "                                  endpoint.\n",
      "  --app-name [basic-auth]         Application name to be used for the tracking\n",
      "                                  server. If not specified,\n",
      "                                  'mlflow.server:app' will be used.\n",
      "  --dev                           If enabled, run the server with debug\n",
      "                                  logging and auto-reload. Should only be used\n",
      "                                  for development purposes. Cannot be used\n",
      "                                  with '--gunicorn-opts'. Unsupported on\n",
      "                                  Windows.\n",
      "  --help                          Show this message and exit.\n"
     ]
    }
   ],
   "source": [
    "!mlflow ui --help"
   ]
  },
  {
   "cell_type": "code",
   "execution_count": 7,
   "id": "273e002e",
   "metadata": {},
   "outputs": [],
   "source": [
    "# answer: --artifacts-destination"
   ]
  },
  {
   "cell_type": "markdown",
   "id": "3764eb77",
   "metadata": {},
   "source": [
    "## Q5. Tune model hyperparameters\n",
    "\n",
    "Now let's try to reduce the validation error by tuning the hyperparameters of the RandomForestRegressor using hyperopt. We have prepared the script hpo.py for this exercise.\n",
    "\n",
    "Your task is to modify the script hpo.py and make sure that the validation RMSE is logged to the tracking server for each run of the hyperparameter optimization (you will need to add a few lines of code to the objective function) and run the script without passing any parameters.\n",
    "\n",
    "After that, open UI and explore the runs from the experiment called random-forest-hyperopt to answer the question below.\n",
    "\n",
    "Note: Don't use autologging for this exercise.\n",
    "\n",
    "The idea is to just log the information that you need to answer the question below, including:\n",
    "\n",
    "* the list of hyperparameters that are passed to the objective function during the optimization,\n",
    "* the RMSE obtained on the validation set (February 2023 data).\n",
    "\n",
    "What's the best validation RMSE that you got?\n",
    "\n",
    "* 4.817\n",
    "* 5.335\n",
    "* 5.818\n",
    "* 6.336"
   ]
  },
  {
   "cell_type": "code",
   "execution_count": 8,
   "id": "a9b3efc1",
   "metadata": {},
   "outputs": [],
   "source": [
    "Q5_EXPERIMENT_NAME = \"random-forest-hyperopt\"\n"
   ]
  },
  {
   "cell_type": "code",
   "execution_count": 9,
   "id": "975bb858",
   "metadata": {},
   "outputs": [],
   "source": [
    "experiment = client.get_experiment_by_name(Q5_EXPERIMENT_NAME)\n",
    "run = client.search_runs(experiment.experiment_id, order_by=[\"metrics.rmse ASC\"], max_results=1)[0]\n"
   ]
  },
  {
   "cell_type": "code",
   "execution_count": 10,
   "id": "7c7baf3b",
   "metadata": {},
   "outputs": [
    {
     "name": "stderr",
     "output_type": "stream",
     "text": [
      "\u001b[32m2024-05-22 21:00:08.774\u001b[0m | \u001b[1mINFO    \u001b[0m | \u001b[36m__main__\u001b[0m:\u001b[36m<module>\u001b[0m:\u001b[36m1\u001b[0m - \u001b[1m5.335419588556921\u001b[0m\n"
     ]
    }
   ],
   "source": [
    "logger.info(run.data.metrics['rmse'])\n"
   ]
  },
  {
   "cell_type": "markdown",
   "id": "50fe56da",
   "metadata": {},
   "source": [
    "## Q6. Promote the best model to the model registry\n",
    "\n",
    "The results from the hyperparameter optimization are quite good. So, we can assume that we are ready to test some of these models in production. In this exercise, you'll promote the best model to the model registry. We have prepared a script called register_model.py, which will check the results from the previous step and select the top 5 runs. After that, it will calculate the RMSE of those models on the test set (March 2023 data) and save the results to a new experiment called random-forest-best-models.\n",
    "\n",
    "Your task is to update the script register_model.py so that it selects the model with the lowest RMSE on the test set and registers it to the model registry.\n",
    "\n",
    "Tip 1: you can use the method search_runs from the MlflowClient to get the model with the lowest RMSE,\n",
    "\n",
    "Tip 2: to register the model you can use the method mlflow.register_model and you will need to pass the right model_uri in the form of a string that looks like this: \"runs:/<RUN_ID>/model\", and the name of the model (make sure to choose a good one!).\n",
    "\n",
    "What is the test RMSE of the best model?\n",
    "\n",
    "* 5.060\n",
    "* 5.567\n",
    "* 6.061\n",
    "* 6.568"
   ]
  },
  {
   "cell_type": "code",
   "execution_count": 11,
   "id": "c00677fc",
   "metadata": {},
   "outputs": [],
   "source": [
    "Q6_EXPERIMENT_NAME = \"random-forest-best-models\"\n"
   ]
  },
  {
   "cell_type": "code",
   "execution_count": 12,
   "id": "14f5c5c6",
   "metadata": {},
   "outputs": [],
   "source": [
    "experiment = client.get_experiment_by_name(Q6_EXPERIMENT_NAME)\n",
    "run = client.search_runs(experiment.experiment_id, order_by=[\"metrics.test_rmse DESC\"], max_results=1)[0]\n"
   ]
  },
  {
   "cell_type": "code",
   "execution_count": 13,
   "id": "fcc59228",
   "metadata": {},
   "outputs": [
    {
     "name": "stderr",
     "output_type": "stream",
     "text": [
      "\u001b[32m2024-05-22 21:00:12.681\u001b[0m | \u001b[1mINFO    \u001b[0m | \u001b[36m__main__\u001b[0m:\u001b[36m<module>\u001b[0m:\u001b[36m1\u001b[0m - \u001b[1m5.5941605655803635\u001b[0m\n"
     ]
    }
   ],
   "source": [
    "logger.info(run.data.metrics['test_rmse'])\n"
   ]
  },
  {
   "cell_type": "code",
   "execution_count": null,
   "id": "e168065d",
   "metadata": {},
   "outputs": [],
   "source": []
  }
 ],
 "metadata": {
  "kernelspec": {
   "display_name": "Python [conda env:mlops] *",
   "language": "python",
   "name": "conda-env-mlops-py"
  },
  "language_info": {
   "codemirror_mode": {
    "name": "ipython",
    "version": 3
   },
   "file_extension": ".py",
   "mimetype": "text/x-python",
   "name": "python",
   "nbconvert_exporter": "python",
   "pygments_lexer": "ipython3",
   "version": "3.10.9"
  }
 },
 "nbformat": 4,
 "nbformat_minor": 5
}
