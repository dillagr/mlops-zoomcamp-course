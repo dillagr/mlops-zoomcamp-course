{
 "cells": [
  {
   "cell_type": "markdown",
   "id": "de9f61eb",
   "metadata": {},
   "source": [
    "## Q1. Prepare the dataset\n",
    "\n",
    "Start with `baseline_model_nyc_taxi_data.ipynb`. Download the March 2024 Green Taxi data. We will use this data to simulate a production usage of a taxi trip duration prediction service.\n",
    "\n",
    "What is the shape of the downloaded data? How many rows are there?\n",
    "\n",
    "* 72044\n",
    "* 78537 \n",
    "* 57457\n",
    "* 54396\n"
   ]
  },
  {
   "cell_type": "code",
   "execution_count": 1,
   "id": "f1471b3d",
   "metadata": {},
   "outputs": [],
   "source": [
    "## dataset\n",
    "import pandas as pd\n",
    "df = pd.read_parquet('./data/green_tripdata_2024-03.parquet')\n"
   ]
  },
  {
   "cell_type": "code",
   "execution_count": 2,
   "id": "e2dc753a",
   "metadata": {},
   "outputs": [
    {
     "data": {
      "text/plain": [
       "(57457, 20)"
      ]
     },
     "execution_count": 2,
     "metadata": {},
     "output_type": "execute_result"
    }
   ],
   "source": [
    "## shape\n",
    "df.shape\n"
   ]
  },
  {
   "cell_type": "markdown",
   "id": "a9b59c4c",
   "metadata": {},
   "source": [
    "## Q2. Metric\n",
    "\n",
    "Let's expand the number of data quality metrics we’d like to monitor! Please add one metric of your choice and a quantile value for the `\"fare_amount\"` column (`quantile=0.5`).\n",
    "\n",
    "Hint: explore evidently metric `ColumnQuantileMetric` (from `evidently.metrics import ColumnQuantileMetric`) \n",
    "\n",
    "What metric did you choose?\n"
   ]
  },
  {
   "cell_type": "raw",
   "id": "9a733b85",
   "metadata": {},
   "source": [
    "Answer: ColumnSummaryMetric()"
   ]
  },
  {
   "cell_type": "markdown",
   "id": "ef82b12e",
   "metadata": {},
   "source": [
    "## Q3. Monitoring\n",
    "\n",
    "Let’s start monitoring. Run expanded monitoring for a new batch of data (March 2024). \n",
    "\n",
    "What is the maximum value of metric `quantile = 0.5` on the `\"fare_amount\"` column during March 2024 (calculated daily)?\n",
    "\n",
    "* 10\n",
    "* 12.5\n",
    "* 14.2\n",
    "* 14.8"
   ]
  },
  {
   "cell_type": "raw",
   "id": "a880d8ef",
   "metadata": {},
   "source": [
    "Answer: 14.2"
   ]
  },
  {
   "cell_type": "markdown",
   "id": "881013b6",
   "metadata": {},
   "source": [
    "## Q4. Dashboard\n",
    "\n",
    "Finally, let’s add panels with new added metrics to the dashboard. After we customize the  dashboard let's save a dashboard config, so that we can access it later. Hint: click on “Save dashboard” to access JSON configuration of the dashboard. This configuration should be saved locally.\n",
    "\n",
    "Where to place a dashboard config file?\n",
    "\n",
    "* `project_folder` (05-monitoring)\n",
    "* `project_folder/config`  (05-monitoring/config)\n",
    "* `project_folder/dashboards`  (05-monitoring/dashboards)\n",
    "* `project_folder/data`  (05-monitoring/data)\n"
   ]
  },
  {
   "cell_type": "raw",
   "id": "50eb97fe",
   "metadata": {},
   "source": [
    "Answer: project_folder/dashboards"
   ]
  }
 ],
 "metadata": {
  "kernelspec": {
   "display_name": "Python [conda env:mlops] *",
   "language": "python",
   "name": "conda-env-mlops-py"
  },
  "language_info": {
   "codemirror_mode": {
    "name": "ipython",
    "version": 3
   },
   "file_extension": ".py",
   "mimetype": "text/x-python",
   "name": "python",
   "nbconvert_exporter": "python",
   "pygments_lexer": "ipython3",
   "version": "3.10.9"
  }
 },
 "nbformat": 4,
 "nbformat_minor": 5
}
