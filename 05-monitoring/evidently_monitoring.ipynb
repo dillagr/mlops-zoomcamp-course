{
 "cells": [
  {
   "cell_type": "code",
   "execution_count": 1,
   "id": "e099de5c",
   "metadata": {},
   "outputs": [],
   "source": [
    "import os\n",
    "import requests\n",
    "import datetime\n",
    "import pandas as pd\n",
    "import psycopg\n",
    "\n",
    "from joblib import load, dump\n",
    "from tqdm import tqdm\n",
    "from loguru import logger\n",
    "\n",
    "from sklearn.linear_model import LinearRegression\n",
    "from sklearn.metrics import mean_absolute_error, mean_absolute_percentage_error\n"
   ]
  },
  {
   "cell_type": "code",
   "execution_count": 2,
   "id": "bd30d28e",
   "metadata": {},
   "outputs": [],
   "source": [
    "from evidently import ColumnMapping\n",
    "from evidently.report import Report\n",
    "from evidently.metrics import ( ColumnDriftMetric, DatasetDriftMetric, \n",
    "    DatasetMissingValuesMetric, ColumnQuantileMetric )\n"
   ]
  },
  {
   "cell_type": "code",
   "execution_count": 3,
   "id": "e028a0ad",
   "metadata": {},
   "outputs": [],
   "source": [
    "files = [\n",
    "    ('green_tripdata_2024-01.parquet', './data'),\n",
    "    ('green_tripdata_2024-02.parquet', './data'),\n",
    "    ('green_tripdata_2024-03.parquet', './data'),\n",
    "#    ('green_tripdata_2024-04.parquet', './data'),\n",
    "    ]\n"
   ]
  },
  {
   "cell_type": "code",
   "execution_count": 4,
   "id": "29488023",
   "metadata": {},
   "outputs": [
    {
     "name": "stdout",
     "output_type": "stream",
     "text": [
      " [i] Download datasets..\n"
     ]
    }
   ],
   "source": [
    "print(\" [i] Download datasets..\")\n",
    "for file, path in files:\n",
    "    save_path=f\"{path}/{file}\"\n",
    "    if os.path.exists(save_path): continue\n",
    "\n",
    "    url=f\"https://d37ci6vzurychx.cloudfront.net/trip-data/{file}\"\n",
    "    resp=requests.get(url, stream=True)\n",
    "    with open(save_path, \"wb\") as handle:\n",
    "        for data in tqdm(resp.iter_content(),\n",
    "                        desc=f\"{file}\",\n",
    "                        postfix=f\"save to {save_path}\",\n",
    "                        total=int(resp.headers[\"Content-Length\"])):\n",
    "            handle.write(data)\n",
    "            "
   ]
  },
  {
   "cell_type": "code",
   "execution_count": 5,
   "id": "a65ad992",
   "metadata": {},
   "outputs": [],
   "source": [
    "# load dataset and model\n",
    "raw_dataset = pd.read_parquet('data/green_tripdata_2024-03.parquet')\n",
    "ref_dataset = pd.read_parquet('data/reference.parquet')\n",
    "\n",
    "with open('models/lin_reg.bin', 'rb') as f_input:\n",
    "    model = load(f_input)\n"
   ]
  },
  {
   "cell_type": "code",
   "execution_count": 6,
   "id": "74e6f43b",
   "metadata": {},
   "outputs": [],
   "source": [
    "# features\n",
    "predict = \"duration\"\n",
    "numeric_features = [\"passenger_count\", \"trip_distance\", \"fare_amount\", \"total_amount\"]\n",
    "categorical_features = [\"PULocationID\", \"DOLocationID\"]\n"
   ]
  },
  {
   "cell_type": "code",
   "execution_count": 7,
   "id": "44dca3f1",
   "metadata": {},
   "outputs": [],
   "source": [
    "# column mapping\n",
    "column_mapping = ColumnMapping(\n",
    "    target=None,\n",
    "    prediction='prediction',\n",
    "    numerical_features=numeric_features,\n",
    "    categorical_features=categorical_features\n",
    ")\n"
   ]
  },
  {
   "cell_type": "code",
   "execution_count": 8,
   "id": "f758343d",
   "metadata": {},
   "outputs": [],
   "source": [
    "# report\n",
    "report = Report(\n",
    "    metrics=[\n",
    "        ColumnDriftMetric(column_name='prediction'),\n",
    "        ColumnQuantileMetric(column_name='fare_amount', quantile=0.5),\n",
    "    ]\n",
    ")\n"
   ]
  },
  {
   "cell_type": "code",
   "execution_count": 9,
   "id": "fac6619d",
   "metadata": {},
   "outputs": [],
   "source": [
    "# filters\n",
    "## lpep_pickup_datetime\n",
    "## raw_dataset['lpep_pickup_datetime'].dt.year == 2024\n",
    "## taw_dataset['lpep_pickup_datetime'].dt.month == 3\n",
    "raw_dataset = raw_dataset[ raw_dataset['lpep_pickup_datetime'].dt.year == 2024 ]\n",
    "raw_dataset = raw_dataset[ raw_dataset['lpep_pickup_datetime'].dt.month == 3 ]\n"
   ]
  },
  {
   "cell_type": "code",
   "execution_count": 10,
   "id": "10c313e1",
   "metadata": {},
   "outputs": [],
   "source": [
    "# dates, so we don't have to calculate them\n",
    "dates = list(pd.to_datetime(raw_dataset['lpep_pickup_datetime']).dt.date.unique())\n"
   ]
  },
  {
   "cell_type": "code",
   "execution_count": 11,
   "id": "2cca3176",
   "metadata": {},
   "outputs": [
    {
     "name": "stderr",
     "output_type": "stream",
     "text": [
      "\u001b[32m2024-06-21 12:41:30.704\u001b[0m | \u001b[1mINFO    \u001b[0m | \u001b[36m__main__\u001b[0m:\u001b[36m<module>\u001b[0m:\u001b[36m1\u001b[0m - \u001b[1m(57447, 20)\u001b[0m\n"
     ]
    }
   ],
   "source": [
    "logger.info(raw_dataset.shape)\n"
   ]
  },
  {
   "cell_type": "code",
   "execution_count": 12,
   "id": "95217f3b",
   "metadata": {},
   "outputs": [],
   "source": [
    "\n",
    "def prep_dataset(dff: pd.DataFrame) -> pd.DataFrame:\n",
    "    \"\"\"\n",
    "    Create a \"y_val\" (or \"predicted\") column named \"duration\",\n",
    "    and remove outliers from the dataset\n",
    "    \"\"\"\n",
    "\n",
    "    # create \"duration\" (aka target)\n",
    "    dff[\"duration\"] = dff.lpep_dropoff_datetime - dff.lpep_pickup_datetime\n",
    "    dff[\"duration\"] = dff[\"duration\"].apply(lambda td : float(td.total_seconds())/60)\n",
    "\n",
    "    # filter out outliers\n",
    "    dff = dff[ (dff['duration'] >= 0) & (dff['duration'] <= 60) ]\n",
    "    dff = dff[ (dff['passenger_count'] > 0) & (dff['passenger_count'] <= 8) ]\n",
    "\n",
    "    return dff\n"
   ]
  },
  {
   "cell_type": "code",
   "execution_count": 13,
   "id": "554b3c5a",
   "metadata": {},
   "outputs": [],
   "source": [
    "\n",
    "def calculate_metric(df: pd.DataFrame):\n",
    "    \"\"\"\n",
    "    Calculate the metrics for the \"metric\" above.\n",
    "    \"\"\"\n",
    "\n",
    "    # logger.debug(f\" [i] Running model prediction(s)..\")\n",
    "    df.fillna(0, inplace=True)  ## make sure no NaN exists\n",
    "    df['prediction'] = model.predict(df[numeric_features + categorical_features])\n",
    "    \n",
    "    logger.debug(f\" [i] Running evidently report(s)..\")    \n",
    "    report.run(\n",
    "        reference_data=ref_dataset,\n",
    "        current_data = df,\n",
    "        column_mapping = column_mapping\n",
    "    )\n",
    "\n",
    "    result = report.as_dict()\n",
    "\n",
    "    ## metrics[-1] -> last one from report\n",
    "    ## there's also metrics[0] but not returned\n",
    "    return result['metrics'][-1]['result']['current']['value']\n"
   ]
  },
  {
   "cell_type": "code",
   "execution_count": 14,
   "id": "07bd0428",
   "metadata": {},
   "outputs": [],
   "source": [
    "\n",
    "create_table = \"\"\"\n",
    "    drop table if exists metrics;\n",
    "    create table metrics(\n",
    "        timestamp date,\n",
    "        fare_amount float\n",
    "        )\n",
    "    \"\"\"\n",
    "\n",
    "def prep_database():\n",
    "    with psycopg.connect(\n",
    "        dbname='postgres',\n",
    "        host='localhost',\n",
    "        port=5432,\n",
    "        user='postgres',\n",
    "        password='s3cureP@55w0rd',\n",
    "        autocommit=True\n",
    "        ) as conn:\n",
    "            \n",
    "        conn.execute(create_table)\n",
    "    "
   ]
  },
  {
   "cell_type": "code",
   "execution_count": 15,
   "id": "2e1fc88a",
   "metadata": {},
   "outputs": [],
   "source": [
    "prep_database()\n"
   ]
  },
  {
   "cell_type": "code",
   "execution_count": 16,
   "id": "c7f53ba9",
   "metadata": {
    "scrolled": true
   },
   "outputs": [
    {
     "name": "stderr",
     "output_type": "stream",
     "text": [
      "\u001b[32m2024-06-21 12:41:30.948\u001b[0m | \u001b[34m\u001b[1mDEBUG   \u001b[0m | \u001b[36m__main__\u001b[0m:\u001b[36m<module>\u001b[0m:\u001b[36m11\u001b[0m - \u001b[34m\u001b[1m [i] Daily monitoring for date: 2024-03-01\u001b[0m\n",
      "\u001b[32m2024-06-21 12:41:30.961\u001b[0m | \u001b[34m\u001b[1mDEBUG   \u001b[0m | \u001b[36m__main__\u001b[0m:\u001b[36mcalculate_metric\u001b[0m:\u001b[36m10\u001b[0m - \u001b[34m\u001b[1m [i] Running evidently report(s)..\u001b[0m\n",
      "\u001b[32m2024-06-21 12:41:30.992\u001b[0m | \u001b[34m\u001b[1mDEBUG   \u001b[0m | \u001b[36m__main__\u001b[0m:\u001b[36m<module>\u001b[0m:\u001b[36m11\u001b[0m - \u001b[34m\u001b[1m [i] Daily monitoring for date: 2024-03-02\u001b[0m\n",
      "\u001b[32m2024-06-21 12:41:31.003\u001b[0m | \u001b[34m\u001b[1mDEBUG   \u001b[0m | \u001b[36m__main__\u001b[0m:\u001b[36mcalculate_metric\u001b[0m:\u001b[36m10\u001b[0m - \u001b[34m\u001b[1m [i] Running evidently report(s)..\u001b[0m\n",
      "\u001b[32m2024-06-21 12:41:31.029\u001b[0m | \u001b[34m\u001b[1mDEBUG   \u001b[0m | \u001b[36m__main__\u001b[0m:\u001b[36m<module>\u001b[0m:\u001b[36m11\u001b[0m - \u001b[34m\u001b[1m [i] Daily monitoring for date: 2024-03-03\u001b[0m\n",
      "\u001b[32m2024-06-21 12:41:31.041\u001b[0m | \u001b[34m\u001b[1mDEBUG   \u001b[0m | \u001b[36m__main__\u001b[0m:\u001b[36mcalculate_metric\u001b[0m:\u001b[36m10\u001b[0m - \u001b[34m\u001b[1m [i] Running evidently report(s)..\u001b[0m\n",
      "\u001b[32m2024-06-21 12:41:31.068\u001b[0m | \u001b[34m\u001b[1mDEBUG   \u001b[0m | \u001b[36m__main__\u001b[0m:\u001b[36m<module>\u001b[0m:\u001b[36m11\u001b[0m - \u001b[34m\u001b[1m [i] Daily monitoring for date: 2024-03-04\u001b[0m\n",
      "\u001b[32m2024-06-21 12:41:31.079\u001b[0m | \u001b[34m\u001b[1mDEBUG   \u001b[0m | \u001b[36m__main__\u001b[0m:\u001b[36mcalculate_metric\u001b[0m:\u001b[36m10\u001b[0m - \u001b[34m\u001b[1m [i] Running evidently report(s)..\u001b[0m\n",
      "\u001b[32m2024-06-21 12:41:31.108\u001b[0m | \u001b[34m\u001b[1mDEBUG   \u001b[0m | \u001b[36m__main__\u001b[0m:\u001b[36m<module>\u001b[0m:\u001b[36m11\u001b[0m - \u001b[34m\u001b[1m [i] Daily monitoring for date: 2024-03-05\u001b[0m\n",
      "\u001b[32m2024-06-21 12:41:31.121\u001b[0m | \u001b[34m\u001b[1mDEBUG   \u001b[0m | \u001b[36m__main__\u001b[0m:\u001b[36mcalculate_metric\u001b[0m:\u001b[36m10\u001b[0m - \u001b[34m\u001b[1m [i] Running evidently report(s)..\u001b[0m\n",
      "\u001b[32m2024-06-21 12:41:31.148\u001b[0m | \u001b[34m\u001b[1mDEBUG   \u001b[0m | \u001b[36m__main__\u001b[0m:\u001b[36m<module>\u001b[0m:\u001b[36m11\u001b[0m - \u001b[34m\u001b[1m [i] Daily monitoring for date: 2024-03-06\u001b[0m\n",
      "\u001b[32m2024-06-21 12:41:31.160\u001b[0m | \u001b[34m\u001b[1mDEBUG   \u001b[0m | \u001b[36m__main__\u001b[0m:\u001b[36mcalculate_metric\u001b[0m:\u001b[36m10\u001b[0m - \u001b[34m\u001b[1m [i] Running evidently report(s)..\u001b[0m\n",
      "\u001b[32m2024-06-21 12:41:31.192\u001b[0m | \u001b[34m\u001b[1mDEBUG   \u001b[0m | \u001b[36m__main__\u001b[0m:\u001b[36m<module>\u001b[0m:\u001b[36m11\u001b[0m - \u001b[34m\u001b[1m [i] Daily monitoring for date: 2024-03-07\u001b[0m\n",
      "\u001b[32m2024-06-21 12:41:31.206\u001b[0m | \u001b[34m\u001b[1mDEBUG   \u001b[0m | \u001b[36m__main__\u001b[0m:\u001b[36mcalculate_metric\u001b[0m:\u001b[36m10\u001b[0m - \u001b[34m\u001b[1m [i] Running evidently report(s)..\u001b[0m\n",
      "\u001b[32m2024-06-21 12:41:31.241\u001b[0m | \u001b[34m\u001b[1mDEBUG   \u001b[0m | \u001b[36m__main__\u001b[0m:\u001b[36m<module>\u001b[0m:\u001b[36m11\u001b[0m - \u001b[34m\u001b[1m [i] Daily monitoring for date: 2024-03-08\u001b[0m\n",
      "\u001b[32m2024-06-21 12:41:31.257\u001b[0m | \u001b[34m\u001b[1mDEBUG   \u001b[0m | \u001b[36m__main__\u001b[0m:\u001b[36mcalculate_metric\u001b[0m:\u001b[36m10\u001b[0m - \u001b[34m\u001b[1m [i] Running evidently report(s)..\u001b[0m\n",
      "\u001b[32m2024-06-21 12:41:31.291\u001b[0m | \u001b[34m\u001b[1mDEBUG   \u001b[0m | \u001b[36m__main__\u001b[0m:\u001b[36m<module>\u001b[0m:\u001b[36m11\u001b[0m - \u001b[34m\u001b[1m [i] Daily monitoring for date: 2024-03-09\u001b[0m\n",
      "\u001b[32m2024-06-21 12:41:31.306\u001b[0m | \u001b[34m\u001b[1mDEBUG   \u001b[0m | \u001b[36m__main__\u001b[0m:\u001b[36mcalculate_metric\u001b[0m:\u001b[36m10\u001b[0m - \u001b[34m\u001b[1m [i] Running evidently report(s)..\u001b[0m\n",
      "\u001b[32m2024-06-21 12:41:31.338\u001b[0m | \u001b[34m\u001b[1mDEBUG   \u001b[0m | \u001b[36m__main__\u001b[0m:\u001b[36m<module>\u001b[0m:\u001b[36m11\u001b[0m - \u001b[34m\u001b[1m [i] Daily monitoring for date: 2024-03-10\u001b[0m\n",
      "\u001b[32m2024-06-21 12:41:31.349\u001b[0m | \u001b[34m\u001b[1mDEBUG   \u001b[0m | \u001b[36m__main__\u001b[0m:\u001b[36mcalculate_metric\u001b[0m:\u001b[36m10\u001b[0m - \u001b[34m\u001b[1m [i] Running evidently report(s)..\u001b[0m\n",
      "\u001b[32m2024-06-21 12:41:31.379\u001b[0m | \u001b[34m\u001b[1mDEBUG   \u001b[0m | \u001b[36m__main__\u001b[0m:\u001b[36m<module>\u001b[0m:\u001b[36m11\u001b[0m - \u001b[34m\u001b[1m [i] Daily monitoring for date: 2024-03-11\u001b[0m\n",
      "\u001b[32m2024-06-21 12:41:31.391\u001b[0m | \u001b[34m\u001b[1mDEBUG   \u001b[0m | \u001b[36m__main__\u001b[0m:\u001b[36mcalculate_metric\u001b[0m:\u001b[36m10\u001b[0m - \u001b[34m\u001b[1m [i] Running evidently report(s)..\u001b[0m\n",
      "\u001b[32m2024-06-21 12:41:31.423\u001b[0m | \u001b[34m\u001b[1mDEBUG   \u001b[0m | \u001b[36m__main__\u001b[0m:\u001b[36m<module>\u001b[0m:\u001b[36m11\u001b[0m - \u001b[34m\u001b[1m [i] Daily monitoring for date: 2024-03-12\u001b[0m\n",
      "\u001b[32m2024-06-21 12:41:31.436\u001b[0m | \u001b[34m\u001b[1mDEBUG   \u001b[0m | \u001b[36m__main__\u001b[0m:\u001b[36mcalculate_metric\u001b[0m:\u001b[36m10\u001b[0m - \u001b[34m\u001b[1m [i] Running evidently report(s)..\u001b[0m\n",
      "\u001b[32m2024-06-21 12:41:31.466\u001b[0m | \u001b[34m\u001b[1mDEBUG   \u001b[0m | \u001b[36m__main__\u001b[0m:\u001b[36m<module>\u001b[0m:\u001b[36m11\u001b[0m - \u001b[34m\u001b[1m [i] Daily monitoring for date: 2024-03-13\u001b[0m\n",
      "\u001b[32m2024-06-21 12:41:31.478\u001b[0m | \u001b[34m\u001b[1mDEBUG   \u001b[0m | \u001b[36m__main__\u001b[0m:\u001b[36mcalculate_metric\u001b[0m:\u001b[36m10\u001b[0m - \u001b[34m\u001b[1m [i] Running evidently report(s)..\u001b[0m\n",
      "\u001b[32m2024-06-21 12:41:31.509\u001b[0m | \u001b[34m\u001b[1mDEBUG   \u001b[0m | \u001b[36m__main__\u001b[0m:\u001b[36m<module>\u001b[0m:\u001b[36m11\u001b[0m - \u001b[34m\u001b[1m [i] Daily monitoring for date: 2024-03-14\u001b[0m\n",
      "\u001b[32m2024-06-21 12:41:31.521\u001b[0m | \u001b[34m\u001b[1mDEBUG   \u001b[0m | \u001b[36m__main__\u001b[0m:\u001b[36mcalculate_metric\u001b[0m:\u001b[36m10\u001b[0m - \u001b[34m\u001b[1m [i] Running evidently report(s)..\u001b[0m\n",
      "\u001b[32m2024-06-21 12:41:31.552\u001b[0m | \u001b[34m\u001b[1mDEBUG   \u001b[0m | \u001b[36m__main__\u001b[0m:\u001b[36m<module>\u001b[0m:\u001b[36m11\u001b[0m - \u001b[34m\u001b[1m [i] Daily monitoring for date: 2024-03-15\u001b[0m\n",
      "\u001b[32m2024-06-21 12:41:31.563\u001b[0m | \u001b[34m\u001b[1mDEBUG   \u001b[0m | \u001b[36m__main__\u001b[0m:\u001b[36mcalculate_metric\u001b[0m:\u001b[36m10\u001b[0m - \u001b[34m\u001b[1m [i] Running evidently report(s)..\u001b[0m\n",
      "\u001b[32m2024-06-21 12:41:31.594\u001b[0m | \u001b[34m\u001b[1mDEBUG   \u001b[0m | \u001b[36m__main__\u001b[0m:\u001b[36m<module>\u001b[0m:\u001b[36m11\u001b[0m - \u001b[34m\u001b[1m [i] Daily monitoring for date: 2024-03-16\u001b[0m\n",
      "\u001b[32m2024-06-21 12:41:31.606\u001b[0m | \u001b[34m\u001b[1mDEBUG   \u001b[0m | \u001b[36m__main__\u001b[0m:\u001b[36mcalculate_metric\u001b[0m:\u001b[36m10\u001b[0m - \u001b[34m\u001b[1m [i] Running evidently report(s)..\u001b[0m\n",
      "\u001b[32m2024-06-21 12:41:31.640\u001b[0m | \u001b[34m\u001b[1mDEBUG   \u001b[0m | \u001b[36m__main__\u001b[0m:\u001b[36m<module>\u001b[0m:\u001b[36m11\u001b[0m - \u001b[34m\u001b[1m [i] Daily monitoring for date: 2024-03-17\u001b[0m\n",
      "\u001b[32m2024-06-21 12:41:31.652\u001b[0m | \u001b[34m\u001b[1mDEBUG   \u001b[0m | \u001b[36m__main__\u001b[0m:\u001b[36mcalculate_metric\u001b[0m:\u001b[36m10\u001b[0m - \u001b[34m\u001b[1m [i] Running evidently report(s)..\u001b[0m\n",
      "\u001b[32m2024-06-21 12:41:31.682\u001b[0m | \u001b[34m\u001b[1mDEBUG   \u001b[0m | \u001b[36m__main__\u001b[0m:\u001b[36m<module>\u001b[0m:\u001b[36m11\u001b[0m - \u001b[34m\u001b[1m [i] Daily monitoring for date: 2024-03-18\u001b[0m\n",
      "\u001b[32m2024-06-21 12:41:31.693\u001b[0m | \u001b[34m\u001b[1mDEBUG   \u001b[0m | \u001b[36m__main__\u001b[0m:\u001b[36mcalculate_metric\u001b[0m:\u001b[36m10\u001b[0m - \u001b[34m\u001b[1m [i] Running evidently report(s)..\u001b[0m\n",
      "\u001b[32m2024-06-21 12:41:31.724\u001b[0m | \u001b[34m\u001b[1mDEBUG   \u001b[0m | \u001b[36m__main__\u001b[0m:\u001b[36m<module>\u001b[0m:\u001b[36m11\u001b[0m - \u001b[34m\u001b[1m [i] Daily monitoring for date: 2024-03-19\u001b[0m\n",
      "\u001b[32m2024-06-21 12:41:31.736\u001b[0m | \u001b[34m\u001b[1mDEBUG   \u001b[0m | \u001b[36m__main__\u001b[0m:\u001b[36mcalculate_metric\u001b[0m:\u001b[36m10\u001b[0m - \u001b[34m\u001b[1m [i] Running evidently report(s)..\u001b[0m\n",
      "\u001b[32m2024-06-21 12:41:31.768\u001b[0m | \u001b[34m\u001b[1mDEBUG   \u001b[0m | \u001b[36m__main__\u001b[0m:\u001b[36m<module>\u001b[0m:\u001b[36m11\u001b[0m - \u001b[34m\u001b[1m [i] Daily monitoring for date: 2024-03-20\u001b[0m\n",
      "\u001b[32m2024-06-21 12:41:31.778\u001b[0m | \u001b[34m\u001b[1mDEBUG   \u001b[0m | \u001b[36m__main__\u001b[0m:\u001b[36mcalculate_metric\u001b[0m:\u001b[36m10\u001b[0m - \u001b[34m\u001b[1m [i] Running evidently report(s)..\u001b[0m\n",
      "\u001b[32m2024-06-21 12:41:31.810\u001b[0m | \u001b[34m\u001b[1mDEBUG   \u001b[0m | \u001b[36m__main__\u001b[0m:\u001b[36m<module>\u001b[0m:\u001b[36m11\u001b[0m - \u001b[34m\u001b[1m [i] Daily monitoring for date: 2024-03-21\u001b[0m\n",
      "\u001b[32m2024-06-21 12:41:31.824\u001b[0m | \u001b[34m\u001b[1mDEBUG   \u001b[0m | \u001b[36m__main__\u001b[0m:\u001b[36mcalculate_metric\u001b[0m:\u001b[36m10\u001b[0m - \u001b[34m\u001b[1m [i] Running evidently report(s)..\u001b[0m\n",
      "\u001b[32m2024-06-21 12:41:31.865\u001b[0m | \u001b[34m\u001b[1mDEBUG   \u001b[0m | \u001b[36m__main__\u001b[0m:\u001b[36m<module>\u001b[0m:\u001b[36m11\u001b[0m - \u001b[34m\u001b[1m [i] Daily monitoring for date: 2024-03-22\u001b[0m\n",
      "\u001b[32m2024-06-21 12:41:31.876\u001b[0m | \u001b[34m\u001b[1mDEBUG   \u001b[0m | \u001b[36m__main__\u001b[0m:\u001b[36mcalculate_metric\u001b[0m:\u001b[36m10\u001b[0m - \u001b[34m\u001b[1m [i] Running evidently report(s)..\u001b[0m\n",
      "\u001b[32m2024-06-21 12:41:31.909\u001b[0m | \u001b[34m\u001b[1mDEBUG   \u001b[0m | \u001b[36m__main__\u001b[0m:\u001b[36m<module>\u001b[0m:\u001b[36m11\u001b[0m - \u001b[34m\u001b[1m [i] Daily monitoring for date: 2024-03-23\u001b[0m\n",
      "\u001b[32m2024-06-21 12:41:31.921\u001b[0m | \u001b[34m\u001b[1mDEBUG   \u001b[0m | \u001b[36m__main__\u001b[0m:\u001b[36mcalculate_metric\u001b[0m:\u001b[36m10\u001b[0m - \u001b[34m\u001b[1m [i] Running evidently report(s)..\u001b[0m\n",
      "\u001b[32m2024-06-21 12:41:31.953\u001b[0m | \u001b[34m\u001b[1mDEBUG   \u001b[0m | \u001b[36m__main__\u001b[0m:\u001b[36m<module>\u001b[0m:\u001b[36m11\u001b[0m - \u001b[34m\u001b[1m [i] Daily monitoring for date: 2024-03-24\u001b[0m\n",
      "\u001b[32m2024-06-21 12:41:31.964\u001b[0m | \u001b[34m\u001b[1mDEBUG   \u001b[0m | \u001b[36m__main__\u001b[0m:\u001b[36mcalculate_metric\u001b[0m:\u001b[36m10\u001b[0m - \u001b[34m\u001b[1m [i] Running evidently report(s)..\u001b[0m\n",
      "\u001b[32m2024-06-21 12:41:31.997\u001b[0m | \u001b[34m\u001b[1mDEBUG   \u001b[0m | \u001b[36m__main__\u001b[0m:\u001b[36m<module>\u001b[0m:\u001b[36m11\u001b[0m - \u001b[34m\u001b[1m [i] Daily monitoring for date: 2024-03-25\u001b[0m\n",
      "\u001b[32m2024-06-21 12:41:32.008\u001b[0m | \u001b[34m\u001b[1mDEBUG   \u001b[0m | \u001b[36m__main__\u001b[0m:\u001b[36mcalculate_metric\u001b[0m:\u001b[36m10\u001b[0m - \u001b[34m\u001b[1m [i] Running evidently report(s)..\u001b[0m\n"
     ]
    },
    {
     "name": "stderr",
     "output_type": "stream",
     "text": [
      "\u001b[32m2024-06-21 12:41:32.044\u001b[0m | \u001b[34m\u001b[1mDEBUG   \u001b[0m | \u001b[36m__main__\u001b[0m:\u001b[36m<module>\u001b[0m:\u001b[36m11\u001b[0m - \u001b[34m\u001b[1m [i] Daily monitoring for date: 2024-03-26\u001b[0m\n",
      "\u001b[32m2024-06-21 12:41:32.055\u001b[0m | \u001b[34m\u001b[1mDEBUG   \u001b[0m | \u001b[36m__main__\u001b[0m:\u001b[36mcalculate_metric\u001b[0m:\u001b[36m10\u001b[0m - \u001b[34m\u001b[1m [i] Running evidently report(s)..\u001b[0m\n",
      "\u001b[32m2024-06-21 12:41:32.089\u001b[0m | \u001b[34m\u001b[1mDEBUG   \u001b[0m | \u001b[36m__main__\u001b[0m:\u001b[36m<module>\u001b[0m:\u001b[36m11\u001b[0m - \u001b[34m\u001b[1m [i] Daily monitoring for date: 2024-03-27\u001b[0m\n",
      "\u001b[32m2024-06-21 12:41:32.101\u001b[0m | \u001b[34m\u001b[1mDEBUG   \u001b[0m | \u001b[36m__main__\u001b[0m:\u001b[36mcalculate_metric\u001b[0m:\u001b[36m10\u001b[0m - \u001b[34m\u001b[1m [i] Running evidently report(s)..\u001b[0m\n",
      "\u001b[32m2024-06-21 12:41:32.135\u001b[0m | \u001b[34m\u001b[1mDEBUG   \u001b[0m | \u001b[36m__main__\u001b[0m:\u001b[36m<module>\u001b[0m:\u001b[36m11\u001b[0m - \u001b[34m\u001b[1m [i] Daily monitoring for date: 2024-03-28\u001b[0m\n",
      "\u001b[32m2024-06-21 12:41:32.147\u001b[0m | \u001b[34m\u001b[1mDEBUG   \u001b[0m | \u001b[36m__main__\u001b[0m:\u001b[36mcalculate_metric\u001b[0m:\u001b[36m10\u001b[0m - \u001b[34m\u001b[1m [i] Running evidently report(s)..\u001b[0m\n",
      "\u001b[32m2024-06-21 12:41:32.182\u001b[0m | \u001b[34m\u001b[1mDEBUG   \u001b[0m | \u001b[36m__main__\u001b[0m:\u001b[36m<module>\u001b[0m:\u001b[36m11\u001b[0m - \u001b[34m\u001b[1m [i] Daily monitoring for date: 2024-03-29\u001b[0m\n",
      "\u001b[32m2024-06-21 12:41:32.193\u001b[0m | \u001b[34m\u001b[1mDEBUG   \u001b[0m | \u001b[36m__main__\u001b[0m:\u001b[36mcalculate_metric\u001b[0m:\u001b[36m10\u001b[0m - \u001b[34m\u001b[1m [i] Running evidently report(s)..\u001b[0m\n",
      "\u001b[32m2024-06-21 12:41:32.227\u001b[0m | \u001b[34m\u001b[1mDEBUG   \u001b[0m | \u001b[36m__main__\u001b[0m:\u001b[36m<module>\u001b[0m:\u001b[36m11\u001b[0m - \u001b[34m\u001b[1m [i] Daily monitoring for date: 2024-03-30\u001b[0m\n",
      "\u001b[32m2024-06-21 12:41:32.238\u001b[0m | \u001b[34m\u001b[1mDEBUG   \u001b[0m | \u001b[36m__main__\u001b[0m:\u001b[36mcalculate_metric\u001b[0m:\u001b[36m10\u001b[0m - \u001b[34m\u001b[1m [i] Running evidently report(s)..\u001b[0m\n",
      "\u001b[32m2024-06-21 12:41:32.273\u001b[0m | \u001b[34m\u001b[1mDEBUG   \u001b[0m | \u001b[36m__main__\u001b[0m:\u001b[36m<module>\u001b[0m:\u001b[36m11\u001b[0m - \u001b[34m\u001b[1m [i] Daily monitoring for date: 2024-03-31\u001b[0m\n",
      "\u001b[32m2024-06-21 12:41:32.285\u001b[0m | \u001b[34m\u001b[1mDEBUG   \u001b[0m | \u001b[36m__main__\u001b[0m:\u001b[36mcalculate_metric\u001b[0m:\u001b[36m10\u001b[0m - \u001b[34m\u001b[1m [i] Running evidently report(s)..\u001b[0m\n"
     ]
    }
   ],
   "source": [
    "\n",
    "with psycopg.connect(\n",
    "    dbname='postgres',\n",
    "    host='localhost',\n",
    "    port=5432,\n",
    "    user='postgres',\n",
    "    password='s3cureP@55w0rd'\n",
    ") as conn:\n",
    "    df = prep_dataset(raw_dataset)\n",
    "    for this_date in dates:\n",
    "        \n",
    "        logger.debug(f\" [i] Daily monitoring for date: {str(this_date)}\")\n",
    "        df_chunk = df[ df['lpep_pickup_datetime'].dt.date == this_date ]\n",
    "        quant = calculate_metric(df_chunk)\n",
    "        conn.execute(f\"\"\"\n",
    "            INSERT INTO metrics(timestamp, fare_amount) VALUES('{this_date}', {quant});\n",
    "            \"\"\")\n",
    "        "
   ]
  },
  {
   "cell_type": "code",
   "execution_count": 17,
   "id": "9f032fb7",
   "metadata": {},
   "outputs": [],
   "source": [
    "# query that database\n",
    "with psycopg.connect(\n",
    "    dbname='postgres',\n",
    "    host='localhost',\n",
    "    port=5432,\n",
    "    user='postgres',\n",
    "    password='s3cureP@55w0rd'\n",
    ") as conn:\n",
    "    resp = conn.execute(\"\"\"\n",
    "        SELECT MAX(fare_amount) FROM metrics;\n",
    "        \"\"\")\n",
    "    fare_amounts = resp.fetchall()\n"
   ]
  },
  {
   "cell_type": "code",
   "execution_count": 18,
   "id": "0bc2a117",
   "metadata": {},
   "outputs": [
    {
     "data": {
      "text/plain": [
       "[(14.2,)]"
      ]
     },
     "execution_count": 18,
     "metadata": {},
     "output_type": "execute_result"
    }
   ],
   "source": [
    "fare_amounts\n"
   ]
  },
  {
   "cell_type": "code",
   "execution_count": null,
   "id": "c150da6c",
   "metadata": {},
   "outputs": [],
   "source": []
  }
 ],
 "metadata": {
  "kernelspec": {
   "display_name": "Python [conda env:mlops] *",
   "language": "python",
   "name": "conda-env-mlops-py"
  },
  "language_info": {
   "codemirror_mode": {
    "name": "ipython",
    "version": 3
   },
   "file_extension": ".py",
   "mimetype": "text/x-python",
   "name": "python",
   "nbconvert_exporter": "python",
   "pygments_lexer": "ipython3",
   "version": "3.10.9"
  }
 },
 "nbformat": 4,
 "nbformat_minor": 5
}
